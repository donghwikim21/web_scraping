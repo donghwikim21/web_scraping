{
 "cells": [
  {
   "cell_type": "code",
   "execution_count": 262,
   "metadata": {},
   "outputs": [],
   "source": [
    "import pandas as pd\n",
    "import numpy as np\n",
    "import re\n",
    "import seaborn as sns\n",
    "import plotly\n",
    "from matplotlib import pyplot as plt\n",
    "from plotly.graph_objs import Figure, Histogram, Layout\n"
   ]
  },
  {
   "cell_type": "code",
   "execution_count": 341,
   "metadata": {},
   "outputs": [
    {
     "name": "stdout",
     "output_type": "stream",
     "text": [
      "(7001, 7)\n"
     ]
    },
    {
     "data": {
      "text/html": [
       "<div>\n",
       "<style scoped>\n",
       "    .dataframe tbody tr th:only-of-type {\n",
       "        vertical-align: middle;\n",
       "    }\n",
       "\n",
       "    .dataframe tbody tr th {\n",
       "        vertical-align: top;\n",
       "    }\n",
       "\n",
       "    .dataframe thead th {\n",
       "        text-align: right;\n",
       "    }\n",
       "</style>\n",
       "<table border=\"1\" class=\"dataframe\">\n",
       "  <thead>\n",
       "    <tr style=\"text-align: right;\">\n",
       "      <th></th>\n",
       "      <th>Bath</th>\n",
       "      <th>Bed</th>\n",
       "      <th>Price</th>\n",
       "      <th>Property</th>\n",
       "      <th>Sqft</th>\n",
       "      <th>PricePerSqft</th>\n",
       "      <th>Area</th>\n",
       "    </tr>\n",
       "  </thead>\n",
       "  <tbody>\n",
       "    <tr>\n",
       "      <th>0</th>\n",
       "      <td>1.0</td>\n",
       "      <td>1.0</td>\n",
       "      <td>545000.0</td>\n",
       "      <td>Co-op</td>\n",
       "      <td>615.0</td>\n",
       "      <td>886.18</td>\n",
       "      <td>Manhattan</td>\n",
       "    </tr>\n",
       "    <tr>\n",
       "      <th>1</th>\n",
       "      <td>1.0</td>\n",
       "      <td>1.0</td>\n",
       "      <td>699000.0</td>\n",
       "      <td>Co-op</td>\n",
       "      <td>NaN</td>\n",
       "      <td>NaN</td>\n",
       "      <td>Manhattan</td>\n",
       "    </tr>\n",
       "    <tr>\n",
       "      <th>2</th>\n",
       "      <td>1.0</td>\n",
       "      <td>2.0</td>\n",
       "      <td>325000.0</td>\n",
       "      <td>Co-op</td>\n",
       "      <td>NaN</td>\n",
       "      <td>NaN</td>\n",
       "      <td>Manhattan</td>\n",
       "    </tr>\n",
       "    <tr>\n",
       "      <th>3</th>\n",
       "      <td>1.0</td>\n",
       "      <td>0.0</td>\n",
       "      <td>459000.0</td>\n",
       "      <td>Co-op</td>\n",
       "      <td>NaN</td>\n",
       "      <td>NaN</td>\n",
       "      <td>Manhattan</td>\n",
       "    </tr>\n",
       "    <tr>\n",
       "      <th>4</th>\n",
       "      <td>2.0</td>\n",
       "      <td>1.0</td>\n",
       "      <td>799000.0</td>\n",
       "      <td>Co-op</td>\n",
       "      <td>800.0</td>\n",
       "      <td>998.75</td>\n",
       "      <td>Manhattan</td>\n",
       "    </tr>\n",
       "  </tbody>\n",
       "</table>\n",
       "</div>"
      ],
      "text/plain": [
       "   Bath  Bed     Price Property   Sqft  PricePerSqft       Area\n",
       "0   1.0  1.0  545000.0    Co-op  615.0        886.18  Manhattan\n",
       "1   1.0  1.0  699000.0    Co-op    NaN           NaN  Manhattan\n",
       "2   1.0  2.0  325000.0    Co-op    NaN           NaN  Manhattan\n",
       "3   1.0  0.0  459000.0    Co-op    NaN           NaN  Manhattan\n",
       "4   2.0  1.0  799000.0    Co-op  800.0        998.75  Manhattan"
      ]
     },
     "execution_count": 341,
     "metadata": {},
     "output_type": "execute_result"
    }
   ],
   "source": [
    "man=pd.read_csv('manhattan.csv')\n",
    "man['Price']=man['Price'].apply(lambda x: float(re.sub('[,$]+',\"\",str(x))))\n",
    "man['Bath']=man['Bath'].apply(lambda x: float(re.sub('[,$+]+',\"\",str(x))))\n",
    "man['Bed']=man['Bed'].apply(lambda x: float(re.sub('[,$]+',\"\",str(x))))\n",
    "man['Sqft']=man['Sqft'].apply(lambda x: float(re.sub('[,$]+',\"\",str(x))))\n",
    "man['PricePerSqft']= round((man['Price']/man['Sqft']),2)\n",
    "man['Area']='Manhattan'\n",
    "man = man.groupby('Property').filter(lambda x : len(x)>5)\n",
    "man = man.groupby('Bed').filter(lambda x : len(x)>10)\n",
    "\n",
    "man=man.dropna(axis=0, how='all')\n",
    "print(man.shape)\n",
    "man.head()"
   ]
  },
  {
   "cell_type": "code",
   "execution_count": 358,
   "metadata": {},
   "outputs": [
    {
     "name": "stdout",
     "output_type": "stream",
     "text": [
      "(6074, 7)\n"
     ]
    },
    {
     "data": {
      "text/plain": [
       "<matplotlib.collections.PathCollection at 0x1a272f1fd0>"
      ]
     },
     "execution_count": 358,
     "metadata": {},
     "output_type": "execute_result"
    },
    {
     "data": {
      "image/png": "[encoded data removed]",
      "text/plain": [
       "<Figure size 432x288 with 1 Axes>"
      ]
     },
     "metadata": {
      "needs_background": "light"
     },
     "output_type": "display_data"
    }
   ],
   "source": [
    "brk= pd.read_csv('brooklyn1.csv')\n",
    "brk =brk.rename(columns={'House for Sale': 'Property','2':'Bed','1':'Bath','nan':'Sqft','$299,000':'Price'})\n",
    "brk['Price']=brk['Price'].apply(lambda x: float(re.sub('[,$]+',\"\",str(x))))\n",
    "brk['Bath']=brk['Bath'].apply(lambda x: float(re.sub('[,$+]+',\"\",str(x))))\n",
    "brk['Bed']=brk['Bed'].apply(lambda x: float(re.sub('[,$]+',\"\",str(x))))\n",
    "brk['Sqft']=brk['Sqft'].apply(lambda x: float(re.sub('[,$]+',\"\",str(x))))\n",
    "brk['PricePerSqft']= round((brk['Price']/brk['Sqft']),2)\n",
    "brk['Area']='Brooklyn'\n",
    "brk = brk.groupby('Property').filter(lambda x : len(x)>5)\n",
    "brk = brk.groupby('Bed').filter(lambda x : len(x)>10)\n",
    "\n",
    "brk= brk.dropna(axis=0, how='all')\n",
    "print(brk.shape)\n",
    "plt.scatter(brk['Sqft'], brk['Price'])\n"
   ]
  },
  {
   "cell_type": "code",
   "execution_count": 359,
   "metadata": {},
   "outputs": [
    {
     "name": "stdout",
     "output_type": "stream",
     "text": [
      "(8927, 7)\n"
     ]
    },
    {
     "data": {
      "text/html": [
       "<div>\n",
       "<style scoped>\n",
       "    .dataframe tbody tr th:only-of-type {\n",
       "        vertical-align: middle;\n",
       "    }\n",
       "\n",
       "    .dataframe tbody tr th {\n",
       "        vertical-align: top;\n",
       "    }\n",
       "\n",
       "    .dataframe thead th {\n",
       "        text-align: right;\n",
       "    }\n",
       "</style>\n",
       "<table border=\"1\" class=\"dataframe\">\n",
       "  <thead>\n",
       "    <tr style=\"text-align: right;\">\n",
       "      <th></th>\n",
       "      <th>Property</th>\n",
       "      <th>Bed</th>\n",
       "      <th>Bath</th>\n",
       "      <th>Sqft</th>\n",
       "      <th>Price</th>\n",
       "      <th>PricePerSqft</th>\n",
       "      <th>Area</th>\n",
       "    </tr>\n",
       "  </thead>\n",
       "  <tbody>\n",
       "    <tr>\n",
       "      <th>0</th>\n",
       "      <td>Co-op</td>\n",
       "      <td>3.0</td>\n",
       "      <td>1.5</td>\n",
       "      <td>NaN</td>\n",
       "      <td>439000.0</td>\n",
       "      <td>NaN</td>\n",
       "      <td>Queens</td>\n",
       "    </tr>\n",
       "    <tr>\n",
       "      <th>1</th>\n",
       "      <td>House for Sale</td>\n",
       "      <td>4.0</td>\n",
       "      <td>2.0</td>\n",
       "      <td>1250.0</td>\n",
       "      <td>489000.0</td>\n",
       "      <td>391.2</td>\n",
       "      <td>Queens</td>\n",
       "    </tr>\n",
       "    <tr>\n",
       "      <th>4</th>\n",
       "      <td>Condos</td>\n",
       "      <td>2.0</td>\n",
       "      <td>2.0</td>\n",
       "      <td>NaN</td>\n",
       "      <td>540000.0</td>\n",
       "      <td>NaN</td>\n",
       "      <td>Queens</td>\n",
       "    </tr>\n",
       "    <tr>\n",
       "      <th>5</th>\n",
       "      <td>House for Sale</td>\n",
       "      <td>3.0</td>\n",
       "      <td>1.0</td>\n",
       "      <td>NaN</td>\n",
       "      <td>628000.0</td>\n",
       "      <td>NaN</td>\n",
       "      <td>Queens</td>\n",
       "    </tr>\n",
       "    <tr>\n",
       "      <th>6</th>\n",
       "      <td>House for Sale</td>\n",
       "      <td>3.0</td>\n",
       "      <td>1.0</td>\n",
       "      <td>1152.0</td>\n",
       "      <td>720000.0</td>\n",
       "      <td>625.0</td>\n",
       "      <td>Queens</td>\n",
       "    </tr>\n",
       "  </tbody>\n",
       "</table>\n",
       "</div>"
      ],
      "text/plain": [
       "         Property  Bed  Bath    Sqft     Price  PricePerSqft    Area\n",
       "0           Co-op  3.0   1.5     NaN  439000.0           NaN  Queens\n",
       "1  House for Sale  4.0   2.0  1250.0  489000.0         391.2  Queens\n",
       "4          Condos  2.0   2.0     NaN  540000.0           NaN  Queens\n",
       "5  House for Sale  3.0   1.0     NaN  628000.0           NaN  Queens\n",
       "6  House for Sale  3.0   1.0  1152.0  720000.0         625.0  Queens"
      ]
     },
     "execution_count": 359,
     "metadata": {},
     "output_type": "execute_result"
    }
   ],
   "source": [
    "queens = pd.read_csv('queens.csv')\n",
    "queens = queens.rename(columns={'Condo': 'Property','nan':'Bed','nan.1':'Bath','840':'Sqft','$329,000':'Price'})\n",
    "queens['Price']=queens['Price'].apply(lambda x: float(re.sub('[,$]+',\"\",str(x))))\n",
    "queens['Bath']=queens['Bath'].apply(lambda x: float(re.sub('[,$+]+',\"\",str(x))))\n",
    "queens['Bed']=queens['Bed'].apply(lambda x: float(re.sub('[,$]+',\"\",str(x))))\n",
    "queens['Sqft']=queens['Sqft'].apply(lambda x: float(re.sub('[,$]+',\"\",str(x))))\n",
    "queens['PricePerSqft']= round((queens['Price']/queens['Sqft']),2)\n",
    "queens['Area']='Queens'\n",
    "queens = queens.groupby('Property').filter(lambda x : len(x)>5)\n",
    "queens = queens.groupby('Bed').filter(lambda x : len(x)>10)\n",
    "\n",
    "queens = queens.dropna(axis=0, how='all')\n",
    "print(queens.shape)\n",
    "queens.head()"
   ]
  },
  {
   "cell_type": "code",
   "execution_count": 360,
   "metadata": {},
   "outputs": [
    {
     "name": "stdout",
     "output_type": "stream",
     "text": [
      "(747, 7)\n"
     ]
    },
    {
     "data": {
      "text/html": [
       "<div>\n",
       "<style scoped>\n",
       "    .dataframe tbody tr th:only-of-type {\n",
       "        vertical-align: middle;\n",
       "    }\n",
       "\n",
       "    .dataframe tbody tr th {\n",
       "        vertical-align: top;\n",
       "    }\n",
       "\n",
       "    .dataframe thead th {\n",
       "        text-align: right;\n",
       "    }\n",
       "</style>\n",
       "<table border=\"1\" class=\"dataframe\">\n",
       "  <thead>\n",
       "    <tr style=\"text-align: right;\">\n",
       "      <th></th>\n",
       "      <th>Property</th>\n",
       "      <th>Bed</th>\n",
       "      <th>Bath</th>\n",
       "      <th>Sqft</th>\n",
       "      <th>Price</th>\n",
       "      <th>PricePerSqft</th>\n",
       "      <th>Area</th>\n",
       "    </tr>\n",
       "  </thead>\n",
       "  <tbody>\n",
       "    <tr>\n",
       "      <th>0</th>\n",
       "      <td>Multi-Family Home</td>\n",
       "      <td>6.0</td>\n",
       "      <td>3.0</td>\n",
       "      <td>NaN</td>\n",
       "      <td>510000.0</td>\n",
       "      <td>NaN</td>\n",
       "      <td>Jersey City</td>\n",
       "    </tr>\n",
       "    <tr>\n",
       "      <th>1</th>\n",
       "      <td>Condo/Townhome</td>\n",
       "      <td>2.0</td>\n",
       "      <td>2.0</td>\n",
       "      <td>1053.0</td>\n",
       "      <td>485000.0</td>\n",
       "      <td>460.59</td>\n",
       "      <td>Jersey City</td>\n",
       "    </tr>\n",
       "    <tr>\n",
       "      <th>4</th>\n",
       "      <td>Multi-Family Home</td>\n",
       "      <td>10.0</td>\n",
       "      <td>5.0</td>\n",
       "      <td>NaN</td>\n",
       "      <td>749000.0</td>\n",
       "      <td>NaN</td>\n",
       "      <td>Jersey City</td>\n",
       "    </tr>\n",
       "    <tr>\n",
       "      <th>5</th>\n",
       "      <td>Condo/Townhome</td>\n",
       "      <td>1.0</td>\n",
       "      <td>1.0</td>\n",
       "      <td>730.0</td>\n",
       "      <td>245000.0</td>\n",
       "      <td>335.62</td>\n",
       "      <td>Jersey City</td>\n",
       "    </tr>\n",
       "    <tr>\n",
       "      <th>6</th>\n",
       "      <td>House for Sale</td>\n",
       "      <td>4.0</td>\n",
       "      <td>1.0</td>\n",
       "      <td>NaN</td>\n",
       "      <td>329000.0</td>\n",
       "      <td>NaN</td>\n",
       "      <td>Jersey City</td>\n",
       "    </tr>\n",
       "  </tbody>\n",
       "</table>\n",
       "</div>"
      ],
      "text/plain": [
       "            Property   Bed  Bath    Sqft     Price  PricePerSqft         Area\n",
       "0  Multi-Family Home   6.0   3.0     NaN  510000.0           NaN  Jersey City\n",
       "1     Condo/Townhome   2.0   2.0  1053.0  485000.0        460.59  Jersey City\n",
       "4  Multi-Family Home  10.0   5.0     NaN  749000.0           NaN  Jersey City\n",
       "5     Condo/Townhome   1.0   1.0   730.0  245000.0        335.62  Jersey City\n",
       "6     House for Sale   4.0   1.0     NaN  329000.0           NaN  Jersey City"
      ]
     },
     "execution_count": 360,
     "metadata": {},
     "output_type": "execute_result"
    }
   ],
   "source": [
    "jersey= pd.read_csv('jerseycity1.csv')\n",
    "jersey = jersey.rename(columns={'House for Sale': 'Property','3':'Bed','3.1':'Bath','nan':'Sqft','$325,000':'Price'})\n",
    "jersey['Price']=jersey['Price'].apply(lambda x: float(re.sub('[,$]+',\"\",str(x))))\n",
    "jersey['Bath']=jersey['Bath'].apply(lambda x: float(re.sub('[,$+]+',\"\",str(x))))\n",
    "jersey['Bed']=jersey['Bed'].apply(lambda x: float(re.sub('[,$]+',\"\",str(x))))\n",
    "jersey['Sqft']=jersey['Sqft'].apply(lambda x: float(re.sub('[,$]+',\"\",str(x))))\n",
    "jersey['PricePerSqft']= round((jersey['Price']/jersey['Sqft']),2)\n",
    "jersey['Area']='Jersey City'\n",
    "jersey = jersey.groupby('Property').filter(lambda x : len(x)>5)\n",
    "jersey = jersey.groupby('Bed').filter(lambda x : len(x)>10)\n",
    "\n",
    "jersey=jersey.dropna(axis=0, how='all')\n",
    "print(jersey.shape)\n",
    "jersey.head()"
   ]
  },
  {
   "cell_type": "code",
   "execution_count": 361,
   "metadata": {
    "scrolled": true
   },
   "outputs": [
    {
     "name": "stdout",
     "output_type": "stream",
     "text": [
      "(22749, 7)\n"
     ]
    },
    {
     "data": {
      "text/html": [
       "<div>\n",
       "<style scoped>\n",
       "    .dataframe tbody tr th:only-of-type {\n",
       "        vertical-align: middle;\n",
       "    }\n",
       "\n",
       "    .dataframe tbody tr th {\n",
       "        vertical-align: top;\n",
       "    }\n",
       "\n",
       "    .dataframe thead th {\n",
       "        text-align: right;\n",
       "    }\n",
       "</style>\n",
       "<table border=\"1\" class=\"dataframe\">\n",
       "  <thead>\n",
       "    <tr style=\"text-align: right;\">\n",
       "      <th></th>\n",
       "      <th>Area</th>\n",
       "      <th>Bath</th>\n",
       "      <th>Bed</th>\n",
       "      <th>Price</th>\n",
       "      <th>PricePerSqft</th>\n",
       "      <th>Property</th>\n",
       "      <th>Sqft</th>\n",
       "    </tr>\n",
       "  </thead>\n",
       "  <tbody>\n",
       "    <tr>\n",
       "      <th>0</th>\n",
       "      <td>Manhattan</td>\n",
       "      <td>1.0</td>\n",
       "      <td>1.0</td>\n",
       "      <td>545000.0</td>\n",
       "      <td>886.18</td>\n",
       "      <td>Co-op</td>\n",
       "      <td>615.0</td>\n",
       "    </tr>\n",
       "    <tr>\n",
       "      <th>1</th>\n",
       "      <td>Manhattan</td>\n",
       "      <td>1.0</td>\n",
       "      <td>1.0</td>\n",
       "      <td>699000.0</td>\n",
       "      <td>NaN</td>\n",
       "      <td>Co-op</td>\n",
       "      <td>NaN</td>\n",
       "    </tr>\n",
       "    <tr>\n",
       "      <th>2</th>\n",
       "      <td>Manhattan</td>\n",
       "      <td>1.0</td>\n",
       "      <td>2.0</td>\n",
       "      <td>325000.0</td>\n",
       "      <td>NaN</td>\n",
       "      <td>Co-op</td>\n",
       "      <td>NaN</td>\n",
       "    </tr>\n",
       "    <tr>\n",
       "      <th>3</th>\n",
       "      <td>Manhattan</td>\n",
       "      <td>1.0</td>\n",
       "      <td>0.0</td>\n",
       "      <td>459000.0</td>\n",
       "      <td>NaN</td>\n",
       "      <td>Co-op</td>\n",
       "      <td>NaN</td>\n",
       "    </tr>\n",
       "    <tr>\n",
       "      <th>4</th>\n",
       "      <td>Manhattan</td>\n",
       "      <td>2.0</td>\n",
       "      <td>1.0</td>\n",
       "      <td>799000.0</td>\n",
       "      <td>998.75</td>\n",
       "      <td>Co-op</td>\n",
       "      <td>800.0</td>\n",
       "    </tr>\n",
       "  </tbody>\n",
       "</table>\n",
       "</div>"
      ],
      "text/plain": [
       "        Area  Bath  Bed     Price  PricePerSqft Property   Sqft\n",
       "0  Manhattan   1.0  1.0  545000.0        886.18    Co-op  615.0\n",
       "1  Manhattan   1.0  1.0  699000.0           NaN    Co-op    NaN\n",
       "2  Manhattan   1.0  2.0  325000.0           NaN    Co-op    NaN\n",
       "3  Manhattan   1.0  0.0  459000.0           NaN    Co-op    NaN\n",
       "4  Manhattan   2.0  1.0  799000.0        998.75    Co-op  800.0"
      ]
     },
     "execution_count": 361,
     "metadata": {},
     "output_type": "execute_result"
    }
   ],
   "source": [
    "NY = man.append(brk, ignore_index=True, sort=True)\n",
    "NY = NY.append(jersey, ignore_index=True, sort=True)\n",
    "NY = NY.append(queens, ignore_index=True, sort=True)\n",
    "print(NY.shape)\n",
    "NY.head()"
   ]
  },
  {
   "cell_type": "code",
   "execution_count": 258,
   "metadata": {},
   "outputs": [
    {
     "data": {
      "text/html": [
       "<div>\n",
       "<style scoped>\n",
       "    .dataframe tbody tr th:only-of-type {\n",
       "        vertical-align: middle;\n",
       "    }\n",
       "\n",
       "    .dataframe tbody tr th {\n",
       "        vertical-align: top;\n",
       "    }\n",
       "\n",
       "    .dataframe thead th {\n",
       "        text-align: right;\n",
       "    }\n",
       "</style>\n",
       "<table border=\"1\" class=\"dataframe\">\n",
       "  <thead>\n",
       "    <tr style=\"text-align: right;\">\n",
       "      <th></th>\n",
       "      <th>Bath</th>\n",
       "      <th>Bed</th>\n",
       "      <th>Price</th>\n",
       "      <th>PricePerSqft</th>\n",
       "      <th>Sqft</th>\n",
       "    </tr>\n",
       "    <tr>\n",
       "      <th>Area</th>\n",
       "      <th></th>\n",
       "      <th></th>\n",
       "      <th></th>\n",
       "      <th></th>\n",
       "      <th></th>\n",
       "    </tr>\n",
       "  </thead>\n",
       "  <tbody>\n",
       "    <tr>\n",
       "      <th>Brooklyn</th>\n",
       "      <td>2.436181</td>\n",
       "      <td>3.124959</td>\n",
       "      <td>1.375528e+06</td>\n",
       "      <td>737.635238</td>\n",
       "      <td>2246.358054</td>\n",
       "    </tr>\n",
       "    <tr>\n",
       "      <th>Jersey City</th>\n",
       "      <td>1.789041</td>\n",
       "      <td>2.499331</td>\n",
       "      <td>7.010797e+05</td>\n",
       "      <td>721.493333</td>\n",
       "      <td>1012.037037</td>\n",
       "    </tr>\n",
       "    <tr>\n",
       "      <th>Manhattan</th>\n",
       "      <td>2.067499</td>\n",
       "      <td>1.971839</td>\n",
       "      <td>3.067136e+06</td>\n",
       "      <td>1722.902190</td>\n",
       "      <td>1793.146748</td>\n",
       "    </tr>\n",
       "    <tr>\n",
       "      <th>Queens</th>\n",
       "      <td>2.162597</td>\n",
       "      <td>3.465554</td>\n",
       "      <td>7.547632e+05</td>\n",
       "      <td>537.588939</td>\n",
       "      <td>1507.952009</td>\n",
       "    </tr>\n",
       "  </tbody>\n",
       "</table>\n",
       "</div>"
      ],
      "text/plain": [
       "                 Bath       Bed         Price  PricePerSqft         Sqft\n",
       "Area                                                                    \n",
       "Brooklyn     2.436181  3.124959  1.375528e+06    737.635238  2246.358054\n",
       "Jersey City  1.789041  2.499331  7.010797e+05    721.493333  1012.037037\n",
       "Manhattan    2.067499  1.971839  3.067136e+06   1722.902190  1793.146748\n",
       "Queens       2.162597  3.465554  7.547632e+05    537.588939  1507.952009"
      ]
     },
     "execution_count": 258,
     "metadata": {},
     "output_type": "execute_result"
    }
   ],
   "source": [
    "group=NY.groupby('Area')\n",
    "group.mean()"
   ]
  },
  {
   "cell_type": "code",
   "execution_count": 329,
   "metadata": {},
   "outputs": [
    {
     "data": {
      "text/html": [
       "<div>\n",
       "<style scoped>\n",
       "    .dataframe tbody tr th:only-of-type {\n",
       "        vertical-align: middle;\n",
       "    }\n",
       "\n",
       "    .dataframe tbody tr th {\n",
       "        vertical-align: top;\n",
       "    }\n",
       "\n",
       "    .dataframe thead th {\n",
       "        text-align: right;\n",
       "    }\n",
       "</style>\n",
       "<table border=\"1\" class=\"dataframe\">\n",
       "  <thead>\n",
       "    <tr style=\"text-align: right;\">\n",
       "      <th></th>\n",
       "      <th>Area</th>\n",
       "      <th>Bath</th>\n",
       "      <th>Bed</th>\n",
       "      <th>Price</th>\n",
       "      <th>PricePerSqft</th>\n",
       "      <th>Property</th>\n",
       "      <th>Sqft</th>\n",
       "    </tr>\n",
       "  </thead>\n",
       "  <tbody>\n",
       "    <tr>\n",
       "      <th>0</th>\n",
       "      <td>Manhattan</td>\n",
       "      <td>1.0</td>\n",
       "      <td>1.0</td>\n",
       "      <td>545000.0</td>\n",
       "      <td>886.18</td>\n",
       "      <td>Co-op</td>\n",
       "      <td>615.0</td>\n",
       "    </tr>\n",
       "    <tr>\n",
       "      <th>1</th>\n",
       "      <td>Manhattan</td>\n",
       "      <td>1.0</td>\n",
       "      <td>1.0</td>\n",
       "      <td>699000.0</td>\n",
       "      <td>NaN</td>\n",
       "      <td>Co-op</td>\n",
       "      <td>NaN</td>\n",
       "    </tr>\n",
       "    <tr>\n",
       "      <th>2</th>\n",
       "      <td>Manhattan</td>\n",
       "      <td>1.0</td>\n",
       "      <td>2.0</td>\n",
       "      <td>325000.0</td>\n",
       "      <td>NaN</td>\n",
       "      <td>Co-op</td>\n",
       "      <td>NaN</td>\n",
       "    </tr>\n",
       "    <tr>\n",
       "      <th>3</th>\n",
       "      <td>Manhattan</td>\n",
       "      <td>1.0</td>\n",
       "      <td>0.0</td>\n",
       "      <td>459000.0</td>\n",
       "      <td>NaN</td>\n",
       "      <td>Co-op</td>\n",
       "      <td>NaN</td>\n",
       "    </tr>\n",
       "    <tr>\n",
       "      <th>4</th>\n",
       "      <td>Manhattan</td>\n",
       "      <td>2.0</td>\n",
       "      <td>1.0</td>\n",
       "      <td>799000.0</td>\n",
       "      <td>998.75</td>\n",
       "      <td>Co-op</td>\n",
       "      <td>800.0</td>\n",
       "    </tr>\n",
       "    <tr>\n",
       "      <th>5</th>\n",
       "      <td>Manhattan</td>\n",
       "      <td>1.0</td>\n",
       "      <td>0.0</td>\n",
       "      <td>729000.0</td>\n",
       "      <td>1672.02</td>\n",
       "      <td>Condos</td>\n",
       "      <td>436.0</td>\n",
       "    </tr>\n",
       "    <tr>\n",
       "      <th>6</th>\n",
       "      <td>Manhattan</td>\n",
       "      <td>1.0</td>\n",
       "      <td>1.0</td>\n",
       "      <td>749000.0</td>\n",
       "      <td>966.45</td>\n",
       "      <td>Co-op</td>\n",
       "      <td>775.0</td>\n",
       "    </tr>\n",
       "    <tr>\n",
       "      <th>7</th>\n",
       "      <td>Manhattan</td>\n",
       "      <td>3.0</td>\n",
       "      <td>2.0</td>\n",
       "      <td>1499000.0</td>\n",
       "      <td>NaN</td>\n",
       "      <td>Co-op</td>\n",
       "      <td>NaN</td>\n",
       "    </tr>\n",
       "    <tr>\n",
       "      <th>8</th>\n",
       "      <td>Manhattan</td>\n",
       "      <td>2.0</td>\n",
       "      <td>0.0</td>\n",
       "      <td>1849000.0</td>\n",
       "      <td>977.27</td>\n",
       "      <td>Condos</td>\n",
       "      <td>1892.0</td>\n",
       "    </tr>\n",
       "    <tr>\n",
       "      <th>9</th>\n",
       "      <td>Manhattan</td>\n",
       "      <td>1.0</td>\n",
       "      <td>0.0</td>\n",
       "      <td>699000.0</td>\n",
       "      <td>1585.03</td>\n",
       "      <td>Condos</td>\n",
       "      <td>441.0</td>\n",
       "    </tr>\n",
       "    <tr>\n",
       "      <th>10</th>\n",
       "      <td>Manhattan</td>\n",
       "      <td>1.0</td>\n",
       "      <td>1.0</td>\n",
       "      <td>435000.0</td>\n",
       "      <td>NaN</td>\n",
       "      <td>Co-op</td>\n",
       "      <td>NaN</td>\n",
       "    </tr>\n",
       "    <tr>\n",
       "      <th>11</th>\n",
       "      <td>Manhattan</td>\n",
       "      <td>2.0</td>\n",
       "      <td>2.0</td>\n",
       "      <td>2200000.0</td>\n",
       "      <td>NaN</td>\n",
       "      <td>House for Sale</td>\n",
       "      <td>NaN</td>\n",
       "    </tr>\n",
       "    <tr>\n",
       "      <th>12</th>\n",
       "      <td>Manhattan</td>\n",
       "      <td>1.0</td>\n",
       "      <td>1.0</td>\n",
       "      <td>550000.0</td>\n",
       "      <td>NaN</td>\n",
       "      <td>Co-op</td>\n",
       "      <td>NaN</td>\n",
       "    </tr>\n",
       "    <tr>\n",
       "      <th>13</th>\n",
       "      <td>Manhattan</td>\n",
       "      <td>1.0</td>\n",
       "      <td>1.0</td>\n",
       "      <td>795000.0</td>\n",
       "      <td>935.29</td>\n",
       "      <td>Condos</td>\n",
       "      <td>850.0</td>\n",
       "    </tr>\n",
       "    <tr>\n",
       "      <th>14</th>\n",
       "      <td>Manhattan</td>\n",
       "      <td>1.0</td>\n",
       "      <td>1.0</td>\n",
       "      <td>785000.0</td>\n",
       "      <td>NaN</td>\n",
       "      <td>Co-op</td>\n",
       "      <td>NaN</td>\n",
       "    </tr>\n",
       "    <tr>\n",
       "      <th>15</th>\n",
       "      <td>Manhattan</td>\n",
       "      <td>2.0</td>\n",
       "      <td>2.0</td>\n",
       "      <td>985000.0</td>\n",
       "      <td>NaN</td>\n",
       "      <td>Co-op</td>\n",
       "      <td>NaN</td>\n",
       "    </tr>\n",
       "    <tr>\n",
       "      <th>16</th>\n",
       "      <td>Manhattan</td>\n",
       "      <td>1.0</td>\n",
       "      <td>1.0</td>\n",
       "      <td>720000.0</td>\n",
       "      <td>970.35</td>\n",
       "      <td>Co-op</td>\n",
       "      <td>742.0</td>\n",
       "    </tr>\n",
       "    <tr>\n",
       "      <th>17</th>\n",
       "      <td>Manhattan</td>\n",
       "      <td>1.0</td>\n",
       "      <td>1.0</td>\n",
       "      <td>750000.0</td>\n",
       "      <td>1000.00</td>\n",
       "      <td>Condos</td>\n",
       "      <td>750.0</td>\n",
       "    </tr>\n",
       "    <tr>\n",
       "      <th>18</th>\n",
       "      <td>Manhattan</td>\n",
       "      <td>2.0</td>\n",
       "      <td>2.0</td>\n",
       "      <td>918000.0</td>\n",
       "      <td>897.36</td>\n",
       "      <td>Condos</td>\n",
       "      <td>1023.0</td>\n",
       "    </tr>\n",
       "    <tr>\n",
       "      <th>19</th>\n",
       "      <td>Manhattan</td>\n",
       "      <td>2.0</td>\n",
       "      <td>2.0</td>\n",
       "      <td>2495000.0</td>\n",
       "      <td>1884.44</td>\n",
       "      <td>Condos</td>\n",
       "      <td>1324.0</td>\n",
       "    </tr>\n",
       "    <tr>\n",
       "      <th>20</th>\n",
       "      <td>Manhattan</td>\n",
       "      <td>2.0</td>\n",
       "      <td>2.0</td>\n",
       "      <td>829000.0</td>\n",
       "      <td>938.84</td>\n",
       "      <td>Condos</td>\n",
       "      <td>883.0</td>\n",
       "    </tr>\n",
       "    <tr>\n",
       "      <th>21</th>\n",
       "      <td>Manhattan</td>\n",
       "      <td>1.0</td>\n",
       "      <td>1.0</td>\n",
       "      <td>850000.0</td>\n",
       "      <td>1355.66</td>\n",
       "      <td>Condos</td>\n",
       "      <td>627.0</td>\n",
       "    </tr>\n",
       "    <tr>\n",
       "      <th>22</th>\n",
       "      <td>Manhattan</td>\n",
       "      <td>2.0</td>\n",
       "      <td>2.0</td>\n",
       "      <td>1200000.0</td>\n",
       "      <td>NaN</td>\n",
       "      <td>Co-op</td>\n",
       "      <td>NaN</td>\n",
       "    </tr>\n",
       "    <tr>\n",
       "      <th>23</th>\n",
       "      <td>Manhattan</td>\n",
       "      <td>2.0</td>\n",
       "      <td>3.0</td>\n",
       "      <td>1690000.0</td>\n",
       "      <td>1181.82</td>\n",
       "      <td>Co-op</td>\n",
       "      <td>1430.0</td>\n",
       "    </tr>\n",
       "    <tr>\n",
       "      <th>24</th>\n",
       "      <td>Manhattan</td>\n",
       "      <td>1.0</td>\n",
       "      <td>1.0</td>\n",
       "      <td>1995000.0</td>\n",
       "      <td>2577.52</td>\n",
       "      <td>Condos</td>\n",
       "      <td>774.0</td>\n",
       "    </tr>\n",
       "    <tr>\n",
       "      <th>25</th>\n",
       "      <td>Manhattan</td>\n",
       "      <td>1.0</td>\n",
       "      <td>1.0</td>\n",
       "      <td>695000.0</td>\n",
       "      <td>1160.27</td>\n",
       "      <td>Condos</td>\n",
       "      <td>599.0</td>\n",
       "    </tr>\n",
       "    <tr>\n",
       "      <th>26</th>\n",
       "      <td>Manhattan</td>\n",
       "      <td>1.0</td>\n",
       "      <td>1.0</td>\n",
       "      <td>1150000.0</td>\n",
       "      <td>NaN</td>\n",
       "      <td>Co-op</td>\n",
       "      <td>NaN</td>\n",
       "    </tr>\n",
       "    <tr>\n",
       "      <th>27</th>\n",
       "      <td>Manhattan</td>\n",
       "      <td>2.0</td>\n",
       "      <td>3.0</td>\n",
       "      <td>5000000.0</td>\n",
       "      <td>1666.67</td>\n",
       "      <td>Co-op</td>\n",
       "      <td>3000.0</td>\n",
       "    </tr>\n",
       "    <tr>\n",
       "      <th>28</th>\n",
       "      <td>Manhattan</td>\n",
       "      <td>1.0</td>\n",
       "      <td>0.0</td>\n",
       "      <td>799000.0</td>\n",
       "      <td>1828.38</td>\n",
       "      <td>Condos</td>\n",
       "      <td>437.0</td>\n",
       "    </tr>\n",
       "    <tr>\n",
       "      <th>29</th>\n",
       "      <td>Manhattan</td>\n",
       "      <td>4.0</td>\n",
       "      <td>8.0</td>\n",
       "      <td>2300000.0</td>\n",
       "      <td>757.58</td>\n",
       "      <td>Townhomes</td>\n",
       "      <td>3036.0</td>\n",
       "    </tr>\n",
       "    <tr>\n",
       "      <th>...</th>\n",
       "      <td>...</td>\n",
       "      <td>...</td>\n",
       "      <td>...</td>\n",
       "      <td>...</td>\n",
       "      <td>...</td>\n",
       "      <td>...</td>\n",
       "      <td>...</td>\n",
       "    </tr>\n",
       "    <tr>\n",
       "      <th>23696</th>\n",
       "      <td>Queens</td>\n",
       "      <td>1.0</td>\n",
       "      <td>0.0</td>\n",
       "      <td>105000.0</td>\n",
       "      <td>NaN</td>\n",
       "      <td>Condos</td>\n",
       "      <td>NaN</td>\n",
       "    </tr>\n",
       "    <tr>\n",
       "      <th>23697</th>\n",
       "      <td>Queens</td>\n",
       "      <td>2.0</td>\n",
       "      <td>2.0</td>\n",
       "      <td>479000.0</td>\n",
       "      <td>532.22</td>\n",
       "      <td>Condos</td>\n",
       "      <td>900.0</td>\n",
       "    </tr>\n",
       "    <tr>\n",
       "      <th>23698</th>\n",
       "      <td>Queens</td>\n",
       "      <td>5.5</td>\n",
       "      <td>4.0</td>\n",
       "      <td>1699000.0</td>\n",
       "      <td>NaN</td>\n",
       "      <td>Multi-Family Home</td>\n",
       "      <td>NaN</td>\n",
       "    </tr>\n",
       "    <tr>\n",
       "      <th>23699</th>\n",
       "      <td>Queens</td>\n",
       "      <td>5.0</td>\n",
       "      <td>7.0</td>\n",
       "      <td>1195000.0</td>\n",
       "      <td>NaN</td>\n",
       "      <td>Multi-Family Home</td>\n",
       "      <td>NaN</td>\n",
       "    </tr>\n",
       "    <tr>\n",
       "      <th>23701</th>\n",
       "      <td>Queens</td>\n",
       "      <td>1.5</td>\n",
       "      <td>3.0</td>\n",
       "      <td>439000.0</td>\n",
       "      <td>NaN</td>\n",
       "      <td>Co-op</td>\n",
       "      <td>NaN</td>\n",
       "    </tr>\n",
       "    <tr>\n",
       "      <th>23702</th>\n",
       "      <td>Queens</td>\n",
       "      <td>2.0</td>\n",
       "      <td>4.0</td>\n",
       "      <td>489000.0</td>\n",
       "      <td>391.20</td>\n",
       "      <td>House for Sale</td>\n",
       "      <td>1250.0</td>\n",
       "    </tr>\n",
       "    <tr>\n",
       "      <th>23703</th>\n",
       "      <td>Queens</td>\n",
       "      <td>2.0</td>\n",
       "      <td>2.0</td>\n",
       "      <td>540000.0</td>\n",
       "      <td>NaN</td>\n",
       "      <td>Condos</td>\n",
       "      <td>NaN</td>\n",
       "    </tr>\n",
       "    <tr>\n",
       "      <th>23704</th>\n",
       "      <td>Queens</td>\n",
       "      <td>1.0</td>\n",
       "      <td>3.0</td>\n",
       "      <td>628000.0</td>\n",
       "      <td>NaN</td>\n",
       "      <td>House for Sale</td>\n",
       "      <td>NaN</td>\n",
       "    </tr>\n",
       "    <tr>\n",
       "      <th>23705</th>\n",
       "      <td>Queens</td>\n",
       "      <td>1.0</td>\n",
       "      <td>3.0</td>\n",
       "      <td>720000.0</td>\n",
       "      <td>625.00</td>\n",
       "      <td>House for Sale</td>\n",
       "      <td>1152.0</td>\n",
       "    </tr>\n",
       "    <tr>\n",
       "      <th>23706</th>\n",
       "      <td>Queens</td>\n",
       "      <td>2.5</td>\n",
       "      <td>5.0</td>\n",
       "      <td>999000.0</td>\n",
       "      <td>NaN</td>\n",
       "      <td>Multi-Family Home</td>\n",
       "      <td>NaN</td>\n",
       "    </tr>\n",
       "    <tr>\n",
       "      <th>23707</th>\n",
       "      <td>Queens</td>\n",
       "      <td>3.5</td>\n",
       "      <td>4.0</td>\n",
       "      <td>1180000.0</td>\n",
       "      <td>NaN</td>\n",
       "      <td>House for Sale</td>\n",
       "      <td>NaN</td>\n",
       "    </tr>\n",
       "    <tr>\n",
       "      <th>23708</th>\n",
       "      <td>Queens</td>\n",
       "      <td>1.0</td>\n",
       "      <td>1.0</td>\n",
       "      <td>129900.0</td>\n",
       "      <td>NaN</td>\n",
       "      <td>Condos</td>\n",
       "      <td>NaN</td>\n",
       "    </tr>\n",
       "    <tr>\n",
       "      <th>23709</th>\n",
       "      <td>Queens</td>\n",
       "      <td>3.0</td>\n",
       "      <td>8.0</td>\n",
       "      <td>1245000.0</td>\n",
       "      <td>NaN</td>\n",
       "      <td>Multi-Family Home</td>\n",
       "      <td>NaN</td>\n",
       "    </tr>\n",
       "    <tr>\n",
       "      <th>23710</th>\n",
       "      <td>Queens</td>\n",
       "      <td>1.0</td>\n",
       "      <td>2.0</td>\n",
       "      <td>320000.0</td>\n",
       "      <td>NaN</td>\n",
       "      <td>Condos</td>\n",
       "      <td>NaN</td>\n",
       "    </tr>\n",
       "    <tr>\n",
       "      <th>23711</th>\n",
       "      <td>Queens</td>\n",
       "      <td>1.0</td>\n",
       "      <td>2.0</td>\n",
       "      <td>320000.0</td>\n",
       "      <td>NaN</td>\n",
       "      <td>Condos</td>\n",
       "      <td>NaN</td>\n",
       "    </tr>\n",
       "    <tr>\n",
       "      <th>23712</th>\n",
       "      <td>Queens</td>\n",
       "      <td>2.0</td>\n",
       "      <td>5.0</td>\n",
       "      <td>1079000.0</td>\n",
       "      <td>655.93</td>\n",
       "      <td>Multi-Family Home</td>\n",
       "      <td>1645.0</td>\n",
       "    </tr>\n",
       "    <tr>\n",
       "      <th>23713</th>\n",
       "      <td>Queens</td>\n",
       "      <td>1.0</td>\n",
       "      <td>1.0</td>\n",
       "      <td>419000.0</td>\n",
       "      <td>529.04</td>\n",
       "      <td>Condos</td>\n",
       "      <td>792.0</td>\n",
       "    </tr>\n",
       "    <tr>\n",
       "      <th>23714</th>\n",
       "      <td>Queens</td>\n",
       "      <td>1.0</td>\n",
       "      <td>3.0</td>\n",
       "      <td>538999.0</td>\n",
       "      <td>276.41</td>\n",
       "      <td>House for Sale</td>\n",
       "      <td>1950.0</td>\n",
       "    </tr>\n",
       "    <tr>\n",
       "      <th>23715</th>\n",
       "      <td>Queens</td>\n",
       "      <td>2.5</td>\n",
       "      <td>3.0</td>\n",
       "      <td>1225000.0</td>\n",
       "      <td>807.51</td>\n",
       "      <td>House for Sale</td>\n",
       "      <td>1517.0</td>\n",
       "    </tr>\n",
       "    <tr>\n",
       "      <th>23716</th>\n",
       "      <td>Queens</td>\n",
       "      <td>1.0</td>\n",
       "      <td>2.0</td>\n",
       "      <td>379000.0</td>\n",
       "      <td>NaN</td>\n",
       "      <td>Condos</td>\n",
       "      <td>NaN</td>\n",
       "    </tr>\n",
       "    <tr>\n",
       "      <th>23717</th>\n",
       "      <td>Queens</td>\n",
       "      <td>3.5</td>\n",
       "      <td>6.0</td>\n",
       "      <td>899000.0</td>\n",
       "      <td>396.38</td>\n",
       "      <td>Multi-Family Home</td>\n",
       "      <td>2268.0</td>\n",
       "    </tr>\n",
       "    <tr>\n",
       "      <th>23718</th>\n",
       "      <td>Queens</td>\n",
       "      <td>3.0</td>\n",
       "      <td>4.0</td>\n",
       "      <td>739000.0</td>\n",
       "      <td>496.64</td>\n",
       "      <td>Multi-Family Home</td>\n",
       "      <td>1488.0</td>\n",
       "    </tr>\n",
       "    <tr>\n",
       "      <th>23719</th>\n",
       "      <td>Queens</td>\n",
       "      <td>3.0</td>\n",
       "      <td>6.0</td>\n",
       "      <td>629990.0</td>\n",
       "      <td>NaN</td>\n",
       "      <td>House for Sale</td>\n",
       "      <td>NaN</td>\n",
       "    </tr>\n",
       "    <tr>\n",
       "      <th>23720</th>\n",
       "      <td>Queens</td>\n",
       "      <td>1.0</td>\n",
       "      <td>1.0</td>\n",
       "      <td>345000.0</td>\n",
       "      <td>NaN</td>\n",
       "      <td>Condos</td>\n",
       "      <td>NaN</td>\n",
       "    </tr>\n",
       "    <tr>\n",
       "      <th>23721</th>\n",
       "      <td>Queens</td>\n",
       "      <td>3.0</td>\n",
       "      <td>4.0</td>\n",
       "      <td>769000.0</td>\n",
       "      <td>NaN</td>\n",
       "      <td>Multi-Family Home</td>\n",
       "      <td>NaN</td>\n",
       "    </tr>\n",
       "    <tr>\n",
       "      <th>23722</th>\n",
       "      <td>Queens</td>\n",
       "      <td>4.5</td>\n",
       "      <td>6.0</td>\n",
       "      <td>699999.0</td>\n",
       "      <td>NaN</td>\n",
       "      <td>Multi-Family Home</td>\n",
       "      <td>NaN</td>\n",
       "    </tr>\n",
       "    <tr>\n",
       "      <th>23723</th>\n",
       "      <td>Queens</td>\n",
       "      <td>2.0</td>\n",
       "      <td>4.0</td>\n",
       "      <td>850000.0</td>\n",
       "      <td>NaN</td>\n",
       "      <td>House for Sale</td>\n",
       "      <td>NaN</td>\n",
       "    </tr>\n",
       "    <tr>\n",
       "      <th>23724</th>\n",
       "      <td>Queens</td>\n",
       "      <td>2.0</td>\n",
       "      <td>4.0</td>\n",
       "      <td>795000.0</td>\n",
       "      <td>NaN</td>\n",
       "      <td>Co-op</td>\n",
       "      <td>NaN</td>\n",
       "    </tr>\n",
       "    <tr>\n",
       "      <th>23725</th>\n",
       "      <td>Queens</td>\n",
       "      <td>2.5</td>\n",
       "      <td>4.0</td>\n",
       "      <td>1700000.0</td>\n",
       "      <td>NaN</td>\n",
       "      <td>Multi-Family Home</td>\n",
       "      <td>NaN</td>\n",
       "    </tr>\n",
       "    <tr>\n",
       "      <th>23726</th>\n",
       "      <td>Queens</td>\n",
       "      <td>3.0</td>\n",
       "      <td>4.0</td>\n",
       "      <td>928000.0</td>\n",
       "      <td>NaN</td>\n",
       "      <td>House for Sale</td>\n",
       "      <td>NaN</td>\n",
       "    </tr>\n",
       "  </tbody>\n",
       "</table>\n",
       "<p>22769 rows × 7 columns</p>\n",
       "</div>"
      ],
      "text/plain": [
       "            Area  Bath  Bed      Price  PricePerSqft           Property  \\\n",
       "0      Manhattan   1.0  1.0   545000.0        886.18              Co-op   \n",
       "1      Manhattan   1.0  1.0   699000.0           NaN              Co-op   \n",
       "2      Manhattan   1.0  2.0   325000.0           NaN              Co-op   \n",
       "3      Manhattan   1.0  0.0   459000.0           NaN              Co-op   \n",
       "4      Manhattan   2.0  1.0   799000.0        998.75              Co-op   \n",
       "5      Manhattan   1.0  0.0   729000.0       1672.02             Condos   \n",
       "6      Manhattan   1.0  1.0   749000.0        966.45              Co-op   \n",
       "7      Manhattan   3.0  2.0  1499000.0           NaN              Co-op   \n",
       "8      Manhattan   2.0  0.0  1849000.0        977.27             Condos   \n",
       "9      Manhattan   1.0  0.0   699000.0       1585.03             Condos   \n",
       "10     Manhattan   1.0  1.0   435000.0           NaN              Co-op   \n",
       "11     Manhattan   2.0  2.0  2200000.0           NaN     House for Sale   \n",
       "12     Manhattan   1.0  1.0   550000.0           NaN              Co-op   \n",
       "13     Manhattan   1.0  1.0   795000.0        935.29             Condos   \n",
       "14     Manhattan   1.0  1.0   785000.0           NaN              Co-op   \n",
       "15     Manhattan   2.0  2.0   985000.0           NaN              Co-op   \n",
       "16     Manhattan   1.0  1.0   720000.0        970.35              Co-op   \n",
       "17     Manhattan   1.0  1.0   750000.0       1000.00             Condos   \n",
       "18     Manhattan   2.0  2.0   918000.0        897.36             Condos   \n",
       "19     Manhattan   2.0  2.0  2495000.0       1884.44             Condos   \n",
       "20     Manhattan   2.0  2.0   829000.0        938.84             Condos   \n",
       "21     Manhattan   1.0  1.0   850000.0       1355.66             Condos   \n",
       "22     Manhattan   2.0  2.0  1200000.0           NaN              Co-op   \n",
       "23     Manhattan   2.0  3.0  1690000.0       1181.82              Co-op   \n",
       "24     Manhattan   1.0  1.0  1995000.0       2577.52             Condos   \n",
       "25     Manhattan   1.0  1.0   695000.0       1160.27             Condos   \n",
       "26     Manhattan   1.0  1.0  1150000.0           NaN              Co-op   \n",
       "27     Manhattan   2.0  3.0  5000000.0       1666.67              Co-op   \n",
       "28     Manhattan   1.0  0.0   799000.0       1828.38             Condos   \n",
       "29     Manhattan   4.0  8.0  2300000.0        757.58          Townhomes   \n",
       "...          ...   ...  ...        ...           ...                ...   \n",
       "23696     Queens   1.0  0.0   105000.0           NaN             Condos   \n",
       "23697     Queens   2.0  2.0   479000.0        532.22             Condos   \n",
       "23698     Queens   5.5  4.0  1699000.0           NaN  Multi-Family Home   \n",
       "23699     Queens   5.0  7.0  1195000.0           NaN  Multi-Family Home   \n",
       "23701     Queens   1.5  3.0   439000.0           NaN              Co-op   \n",
       "23702     Queens   2.0  4.0   489000.0        391.20     House for Sale   \n",
       "23703     Queens   2.0  2.0   540000.0           NaN             Condos   \n",
       "23704     Queens   1.0  3.0   628000.0           NaN     House for Sale   \n",
       "23705     Queens   1.0  3.0   720000.0        625.00     House for Sale   \n",
       "23706     Queens   2.5  5.0   999000.0           NaN  Multi-Family Home   \n",
       "23707     Queens   3.5  4.0  1180000.0           NaN     House for Sale   \n",
       "23708     Queens   1.0  1.0   129900.0           NaN             Condos   \n",
       "23709     Queens   3.0  8.0  1245000.0           NaN  Multi-Family Home   \n",
       "23710     Queens   1.0  2.0   320000.0           NaN             Condos   \n",
       "23711     Queens   1.0  2.0   320000.0           NaN             Condos   \n",
       "23712     Queens   2.0  5.0  1079000.0        655.93  Multi-Family Home   \n",
       "23713     Queens   1.0  1.0   419000.0        529.04             Condos   \n",
       "23714     Queens   1.0  3.0   538999.0        276.41     House for Sale   \n",
       "23715     Queens   2.5  3.0  1225000.0        807.51     House for Sale   \n",
       "23716     Queens   1.0  2.0   379000.0           NaN             Condos   \n",
       "23717     Queens   3.5  6.0   899000.0        396.38  Multi-Family Home   \n",
       "23718     Queens   3.0  4.0   739000.0        496.64  Multi-Family Home   \n",
       "23719     Queens   3.0  6.0   629990.0           NaN     House for Sale   \n",
       "23720     Queens   1.0  1.0   345000.0           NaN             Condos   \n",
       "23721     Queens   3.0  4.0   769000.0           NaN  Multi-Family Home   \n",
       "23722     Queens   4.5  6.0   699999.0           NaN  Multi-Family Home   \n",
       "23723     Queens   2.0  4.0   850000.0           NaN     House for Sale   \n",
       "23724     Queens   2.0  4.0   795000.0           NaN              Co-op   \n",
       "23725     Queens   2.5  4.0  1700000.0           NaN  Multi-Family Home   \n",
       "23726     Queens   3.0  4.0   928000.0           NaN     House for Sale   \n",
       "\n",
       "         Sqft  \n",
       "0       615.0  \n",
       "1         NaN  \n",
       "2         NaN  \n",
       "3         NaN  \n",
       "4       800.0  \n",
       "5       436.0  \n",
       "6       775.0  \n",
       "7         NaN  \n",
       "8      1892.0  \n",
       "9       441.0  \n",
       "10        NaN  \n",
       "11        NaN  \n",
       "12        NaN  \n",
       "13      850.0  \n",
       "14        NaN  \n",
       "15        NaN  \n",
       "16      742.0  \n",
       "17      750.0  \n",
       "18     1023.0  \n",
       "19     1324.0  \n",
       "20      883.0  \n",
       "21      627.0  \n",
       "22        NaN  \n",
       "23     1430.0  \n",
       "24      774.0  \n",
       "25      599.0  \n",
       "26        NaN  \n",
       "27     3000.0  \n",
       "28      437.0  \n",
       "29     3036.0  \n",
       "...       ...  \n",
       "23696     NaN  \n",
       "23697   900.0  \n",
       "23698     NaN  \n",
       "23699     NaN  \n",
       "23701     NaN  \n",
       "23702  1250.0  \n",
       "23703     NaN  \n",
       "23704     NaN  \n",
       "23705  1152.0  \n",
       "23706     NaN  \n",
       "23707     NaN  \n",
       "23708     NaN  \n",
       "23709     NaN  \n",
       "23710     NaN  \n",
       "23711     NaN  \n",
       "23712  1645.0  \n",
       "23713   792.0  \n",
       "23714  1950.0  \n",
       "23715  1517.0  \n",
       "23716     NaN  \n",
       "23717  2268.0  \n",
       "23718  1488.0  \n",
       "23719     NaN  \n",
       "23720     NaN  \n",
       "23721     NaN  \n",
       "23722     NaN  \n",
       "23723     NaN  \n",
       "23724     NaN  \n",
       "23725     NaN  \n",
       "23726     NaN  \n",
       "\n",
       "[22769 rows x 7 columns]"
      ]
     },
     "execution_count": 329,
     "metadata": {},
     "output_type": "execute_result"
    }
   ],
   "source": [
    "NY[NY['Bed']<13]"
   ]
  },
  {
   "cell_type": "code",
   "execution_count": 367,
   "metadata": {},
   "outputs": [
    {
     "data": {
      "text/plain": [
       "(array([6126., 5652., 4439., 2717., 1267., 1329.,  843.,    0.,  169.,\n",
       "         207.]),\n",
       " array([ 0. ,  1.2,  2.4,  3.6,  4.8,  6. ,  7.2,  8.4,  9.6, 10.8, 12. ]),\n",
       " <a list of 10 Patch objects>)"
      ]
     },
     "execution_count": 367,
     "metadata": {},
     "output_type": "execute_result"
    },
    {
     "data": {
      "image/png": "[encoded data removed]",
      "text/plain": [
       "<Figure size 432x288 with 1 Axes>"
      ]
     },
     "metadata": {
      "needs_background": "light"
     },
     "output_type": "display_data"
    }
   ],
   "source": [
    "plt.hist(NY['Bed'])"
   ]
  },
  {
   "cell_type": "code",
   "execution_count": 310,
   "metadata": {},
   "outputs": [
    {
     "data": {
      "text/plain": [
       "Condos               3613\n",
       "Co-op                3115\n",
       "Townhomes             161\n",
       "House for Sale        113\n",
       "Condo                  75\n",
       "Condop                 49\n",
       "Multi-Family Home      40\n",
       "Condo/Townhome          2\n",
       "Apartment               1\n",
       "Mfd/Mobile Home         1\n",
       "Townhouse               1\n",
       "Land                    1\n",
       "Name: Property, dtype: int64"
      ]
     },
     "execution_count": 310,
     "metadata": {},
     "output_type": "execute_result"
    }
   ],
   "source": [
    "man['Property'].value_counts()\n"
   ]
  },
  {
   "cell_type": "code",
   "execution_count": 365,
   "metadata": {},
   "outputs": [
    {
     "data": {
      "text/plain": [
       "4.0     1871\n",
       "3.0     1661\n",
       "2.0     1660\n",
       "1.0     1245\n",
       "6.0      624\n",
       "5.0      623\n",
       "7.0      414\n",
       "0.0      414\n",
       "8.0      208\n",
       "12.0     207\n",
       "Name: Bed, dtype: int64"
      ]
     },
     "execution_count": 365,
     "metadata": {},
     "output_type": "execute_result"
    }
   ],
   "source": [
    "queens['Bed'].value_counts()"
   ]
  },
  {
   "cell_type": "code",
   "execution_count": 332,
   "metadata": {},
   "outputs": [
    {
     "data": {
      "text/html": [
       "<div>\n",
       "<style scoped>\n",
       "    .dataframe tbody tr th:only-of-type {\n",
       "        vertical-align: middle;\n",
       "    }\n",
       "\n",
       "    .dataframe tbody tr th {\n",
       "        vertical-align: top;\n",
       "    }\n",
       "\n",
       "    .dataframe thead th {\n",
       "        text-align: right;\n",
       "    }\n",
       "</style>\n",
       "<table border=\"1\" class=\"dataframe\">\n",
       "  <thead>\n",
       "    <tr style=\"text-align: right;\">\n",
       "      <th></th>\n",
       "      <th>Bath</th>\n",
       "      <th>Bed</th>\n",
       "      <th>Price</th>\n",
       "      <th>Sqft</th>\n",
       "      <th>PricePerSqft</th>\n",
       "    </tr>\n",
       "    <tr>\n",
       "      <th>Property</th>\n",
       "      <th></th>\n",
       "      <th></th>\n",
       "      <th></th>\n",
       "      <th></th>\n",
       "      <th></th>\n",
       "    </tr>\n",
       "  </thead>\n",
       "  <tbody>\n",
       "    <tr>\n",
       "      <th>Co-op</th>\n",
       "      <td>1.720758</td>\n",
       "      <td>1.709866</td>\n",
       "      <td>1.924274e+06</td>\n",
       "      <td>1399.736052</td>\n",
       "      <td>1145.788841</td>\n",
       "    </tr>\n",
       "    <tr>\n",
       "      <th>Condo</th>\n",
       "      <td>2.013333</td>\n",
       "      <td>1.617647</td>\n",
       "      <td>2.369912e+06</td>\n",
       "      <td>1838.980392</td>\n",
       "      <td>1576.873725</td>\n",
       "    </tr>\n",
       "    <tr>\n",
       "      <th>Condop</th>\n",
       "      <td>1.571429</td>\n",
       "      <td>1.632653</td>\n",
       "      <td>1.402571e+06</td>\n",
       "      <td>1089.037037</td>\n",
       "      <td>1291.973333</td>\n",
       "    </tr>\n",
       "    <tr>\n",
       "      <th>Condos</th>\n",
       "      <td>2.174805</td>\n",
       "      <td>2.001955</td>\n",
       "      <td>3.617923e+06</td>\n",
       "      <td>1646.171402</td>\n",
       "      <td>1910.415795</td>\n",
       "    </tr>\n",
       "    <tr>\n",
       "      <th>House for Sale</th>\n",
       "      <td>3.626263</td>\n",
       "      <td>3.650000</td>\n",
       "      <td>6.445317e+06</td>\n",
       "      <td>4379.770270</td>\n",
       "      <td>1628.792838</td>\n",
       "    </tr>\n",
       "    <tr>\n",
       "      <th>Multi-Family Home</th>\n",
       "      <td>5.716216</td>\n",
       "      <td>5.846154</td>\n",
       "      <td>5.560850e+06</td>\n",
       "      <td>5012.843750</td>\n",
       "      <td>983.364375</td>\n",
       "    </tr>\n",
       "    <tr>\n",
       "      <th>Townhomes</th>\n",
       "      <td>5.391473</td>\n",
       "      <td>4.614379</td>\n",
       "      <td>1.066788e+07</td>\n",
       "      <td>6428.733333</td>\n",
       "      <td>1635.578083</td>\n",
       "    </tr>\n",
       "  </tbody>\n",
       "</table>\n",
       "</div>"
      ],
      "text/plain": [
       "                       Bath       Bed         Price         Sqft  PricePerSqft\n",
       "Property                                                                      \n",
       "Co-op              1.720758  1.709866  1.924274e+06  1399.736052   1145.788841\n",
       "Condo              2.013333  1.617647  2.369912e+06  1838.980392   1576.873725\n",
       "Condop             1.571429  1.632653  1.402571e+06  1089.037037   1291.973333\n",
       "Condos             2.174805  2.001955  3.617923e+06  1646.171402   1910.415795\n",
       "House for Sale     3.626263  3.650000  6.445317e+06  4379.770270   1628.792838\n",
       "Multi-Family Home  5.716216  5.846154  5.560850e+06  5012.843750    983.364375\n",
       "Townhomes          5.391473  4.614379  1.066788e+07  6428.733333   1635.578083"
      ]
     },
     "execution_count": 332,
     "metadata": {},
     "output_type": "execute_result"
    }
   ],
   "source": [
    "mang = man.groupby('Property')\n",
    "mang.mean()"
   ]
  },
  {
   "cell_type": "code",
   "execution_count": 346,
   "metadata": {},
   "outputs": [
    {
     "data": {
      "text/plain": [
       "1.0    2205\n",
       "2.0    2150\n",
       "3.0    1141\n",
       "0.0     726\n",
       "4.0     474\n",
       "5.0     172\n",
       "6.0      82\n",
       "8.0      28\n",
       "7.0      23\n",
       "Name: Bed, dtype: int64"
      ]
     },
     "execution_count": 346,
     "metadata": {},
     "output_type": "execute_result"
    }
   ],
   "source": [
    "man['Bed'].value_counts().sort_values(ascending=False)"
   ]
  },
  {
   "cell_type": "code",
   "execution_count": 168,
   "metadata": {},
   "outputs": [],
   "source": [
    "man = man[man['Bed']<10]"
   ]
  },
  {
   "cell_type": "code",
   "execution_count": 366,
   "metadata": {},
   "outputs": [
    {
     "data": {
      "text/plain": [
       "(array([ 726., 2205., 2150., 1141.,    0.,  474.,  172.,   82.,   23.,\n",
       "          28.]),\n",
       " array([0. , 0.8, 1.6, 2.4, 3.2, 4. , 4.8, 5.6, 6.4, 7.2, 8. ]),\n",
       " <a list of 10 Patch objects>)"
      ]
     },
     "execution_count": 366,
     "metadata": {},
     "output_type": "execute_result"
    },
    {
     "data": {
      "image/png": "[encoded data removed]",
      "text/plain": [
       "<Figure size 432x288 with 1 Axes>"
      ]
     },
     "metadata": {
      "needs_background": "light"
     },
     "output_type": "display_data"
    }
   ],
   "source": [
    "plt.hist(man['Bed'])"
   ]
  },
  {
   "cell_type": "code",
   "execution_count": 347,
   "metadata": {},
   "outputs": [
    {
     "data": {
      "text/plain": [
       "<matplotlib.axes._subplots.AxesSubplot at 0x1a26326ba8>"
      ]
     },
     "execution_count": 347,
     "metadata": {},
     "output_type": "execute_result"
    },
    {
     "data": {
      "image/png": "[encoded data removed]",
      "text/plain": [
       "<Figure size 432x288 with 1 Axes>"
      ]
     },
     "metadata": {
      "needs_background": "light"
     },
     "output_type": "display_data"
    }
   ],
   "source": [
    "sns.boxplot(x='Bed',y='Price',data=man)"
   ]
  },
  {
   "cell_type": "code",
   "execution_count": 342,
   "metadata": {},
   "outputs": [
    {
     "data": {
      "text/plain": [
       "<seaborn.axisgrid.FacetGrid at 0x1a236c8470>"
      ]
     },
     "execution_count": 342,
     "metadata": {},
     "output_type": "execute_result"
    },
    {
     "data": {
      "image/png": "[encoded data removed]",
      "text/plain": [
       "<Figure size 360x360 with 1 Axes>"
      ]
     },
     "metadata": {
      "needs_background": "light"
     },
     "output_type": "display_data"
    }
   ],
   "source": [
    "sns.lmplot(\"Bed\", \"Price\", man, palette=\"Set2\")"
   ]
  },
  {
   "cell_type": "code",
   "execution_count": 343,
   "metadata": {},
   "outputs": [
    {
     "data": {
      "text/plain": [
       "<seaborn.axisgrid.FacetGrid at 0x1a2661aa58>"
      ]
     },
     "execution_count": 343,
     "metadata": {},
     "output_type": "execute_result"
    },
    {
     "data": {
      "image/png": "[encoded data removed]",
      "text/plain": [
       "<Figure size 360x360 with 1 Axes>"
      ]
     },
     "metadata": {
      "needs_background": "light"
     },
     "output_type": "display_data"
    }
   ],
   "source": [
    "sns.lmplot(\"Bath\", \"Price\", man, palette=\"Set2\")"
   ]
  },
  {
   "cell_type": "code",
   "execution_count": 137,
   "metadata": {},
   "outputs": [
    {
     "data": {
      "text/plain": [
       "<matplotlib.axes._subplots.AxesSubplot at 0x11a988198>"
      ]
     },
     "execution_count": 137,
     "metadata": {},
     "output_type": "execute_result"
    },
    {
     "data": {
      "image/png": "[encoded data removed]",
      "text/plain": [
       "<Figure size 432x288 with 1 Axes>"
      ]
     },
     "metadata": {
      "needs_background": "light"
     },
     "output_type": "display_data"
    }
   ],
   "source": [
    "sns.boxplot(x='Bed',y='Price',data = jersey)"
   ]
  },
  {
   "cell_type": "code",
   "execution_count": 345,
   "metadata": {},
   "outputs": [
    {
     "data": {
      "text/plain": [
       "<seaborn.axisgrid.FacetGrid at 0x1a260d50f0>"
      ]
     },
     "execution_count": 345,
     "metadata": {},
     "output_type": "execute_result"
    },
    {
     "data": {
      "image/png": "[encoded data removed]",
      "text/plain": [
       "<Figure size 360x360 with 1 Axes>"
      ]
     },
     "metadata": {
      "needs_background": "light"
     },
     "output_type": "display_data"
    }
   ],
   "source": [
    "sns.lmplot(\"Bed\", \"Price\", queens, palette=\"Set2\")"
   ]
  },
  {
   "cell_type": "code",
   "execution_count": 362,
   "metadata": {},
   "outputs": [
    {
     "data": {
      "text/plain": [
       "<matplotlib.axes._subplots.AxesSubplot at 0x1a27237b38>"
      ]
     },
     "execution_count": 362,
     "metadata": {},
     "output_type": "execute_result"
    },
    {
     "data": {
      "image/png": "[encoded data removed]",
      "text/plain": [
       "<Figure size 432x288 with 1 Axes>"
      ]
     },
     "metadata": {
      "needs_background": "light"
     },
     "output_type": "display_data"
    }
   ],
   "source": [
    "sns.boxplot(x='Bed',y='Price',data=queens)"
   ]
  },
  {
   "cell_type": "code",
   "execution_count": 378,
   "metadata": {},
   "outputs": [
    {
     "data": {
      "text/plain": [
       "<seaborn.axisgrid.FacetGrid at 0x1a29454860>"
      ]
     },
     "execution_count": 378,
     "metadata": {},
     "output_type": "execute_result"
    },
    {
     "data": {
      "image/png": "[encoded data removed]",
      "text/plain": [
       "<Figure size 360x360 with 1 Axes>"
      ]
     },
     "metadata": {
      "needs_background": "light"
     },
     "output_type": "display_data"
    }
   ],
   "source": [
    "sns.lmplot(\"Sqft\", \"Price\", jersey)"
   ]
  },
  {
   "cell_type": "code",
   "execution_count": 357,
   "metadata": {},
   "outputs": [
    {
     "data": {
      "text/plain": [
       "(array([ 726., 2205.,    0., 2150.,    0., 1141.,    0.,  474.,    0.,\n",
       "         172.,    0.,   82.,    0.,   23.,   28.]),\n",
       " array([0.        , 0.53333333, 1.06666667, 1.6       , 2.13333333,\n",
       "        2.66666667, 3.2       , 3.73333333, 4.26666667, 4.8       ,\n",
       "        5.33333333, 5.86666667, 6.4       , 6.93333333, 7.46666667,\n",
       "        8.        ]),\n",
       " <a list of 15 Patch objects>)"
      ]
     },
     "execution_count": 357,
     "metadata": {},
     "output_type": "execute_result"
    },
    {
     "data": {
      "image/png": "[encoded data removed]",
      "text/plain": [
       "<Figure size 432x288 with 1 Axes>"
      ]
     },
     "metadata": {
      "needs_background": "light"
     },
     "output_type": "display_data"
    }
   ],
   "source": [
    "plt.hist(man['Bed'], bins=15, color=\"#5ee3ff\")"
   ]
  },
  {
   "cell_type": "code",
   "execution_count": 373,
   "metadata": {},
   "outputs": [
    {
     "data": {
      "text/plain": [
       "Text(0, 0.5, 'Area')"
      ]
     },
     "execution_count": 373,
     "metadata": {},
     "output_type": "execute_result"
    },
    {
     "data": {
      "image/png": "[encoded data removed]",
      "text/plain": [
       "<Figure size 432x288 with 1 Axes>"
      ]
     },
     "metadata": {
      "needs_background": "light"
     },
     "output_type": "display_data"
    }
   ],
   "source": [
    "df = NY[NY.Area == 'Manhattan']\n",
    "sns.distplot(df['Sqft'], hist = False, kde = True, label='Manhattan')\n",
    "df = NY[NY.Area == 'Queens']\n",
    "sns.distplot(df['Sqft'], hist = False, kde = True, label='Queens')\n",
    "# Plot formatting\n",
    "plt.legend(prop={'size': 12})\n",
    "plt.title('Sqft vs Area')\n",
    "plt.xlabel('Sqft')\n",
    "plt.ylabel('Area')"
   ]
  },
  {
   "cell_type": "code",
   "execution_count": 393,
   "metadata": {},
   "outputs": [
    {
     "data": {
      "image/png": "[encoded data removed]",
      "text/plain": [
       "<Figure size 432x288 with 1 Axes>"
      ]
     },
     "metadata": {
      "needs_background": "light"
     },
     "output_type": "display_data"
    }
   ],
   "source": [
    "mand= man[man['Price']<5000000]\n",
    "\n",
    "sns.distplot(\n",
    "    mand['Price'], norm_hist=False, kde=False, bins=20, hist_kws={\"alpha\": 1}\n",
    ").set(xlabel='Price', ylabel='Count');"
   ]
  },
  {
   "cell_type": "code",
   "execution_count": 396,
   "metadata": {},
   "outputs": [
    {
     "data": {
      "image/png": "[encoded data removed]",
      "text/plain": [
       "<Figure size 432x288 with 1 Axes>"
      ]
     },
     "metadata": {
      "needs_background": "light"
     },
     "output_type": "display_data"
    }
   ],
   "source": [
    "NYd= NY[NY['Price']<5000000]\n",
    "\n",
    "sns.distplot(\n",
    "    NYd['Price'], norm_hist=False, kde=False, bins=20, hist_kws={\"alpha\": 1}\n",
    ").set(xlabel='Price', ylabel='Count');"
   ]
  },
  {
   "cell_type": "code",
   "execution_count": null,
   "metadata": {},
   "outputs": [],
   "source": []
  }
 ],
 "metadata": {
  "kernelspec": {
   "display_name": "Python 3",
   "language": "python",
   "name": "python3"
  },
  "language_info": {
   "codemirror_mode": {
    "name": "ipython",
    "version": 3
   },
   "file_extension": ".py",
   "mimetype": "text/x-python",
   "name": "python",
   "nbconvert_exporter": "python",
   "pygments_lexer": "ipython3",
   "version": "3.7.3"
  }
 },
 "nbformat": 4,
 "nbformat_minor": 2
}
